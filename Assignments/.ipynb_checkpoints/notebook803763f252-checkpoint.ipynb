{
 "cells": [
  {
   "cell_type": "code",
   "execution_count": 1,
   "metadata": {
    "execution": {
     "iopub.execute_input": "2023-08-28T19:46:33.90945Z",
     "iopub.status.busy": "2023-08-28T19:46:33.908711Z",
     "iopub.status.idle": "2023-08-28T19:46:46.62538Z",
     "shell.execute_reply": "2023-08-28T19:46:46.624366Z",
     "shell.execute_reply.started": "2023-08-28T19:46:33.909385Z"
    }
   },
   "outputs": [
    {
     "name": "stdout",
     "output_type": "stream",
     "text": [
      "Requirement already satisfied: apyori in /Library/Frameworks/Python.framework/Versions/3.11/lib/python3.11/site-packages (1.1.2)\n",
      "\n",
      "\u001b[1m[\u001b[0m\u001b[34;49mnotice\u001b[0m\u001b[1;39;49m]\u001b[0m\u001b[39;49m A new release of pip is available: \u001b[0m\u001b[31;49m23.0.1\u001b[0m\u001b[39;49m -> \u001b[0m\u001b[32;49m24.0\u001b[0m\n",
      "\u001b[1m[\u001b[0m\u001b[34;49mnotice\u001b[0m\u001b[1;39;49m]\u001b[0m\u001b[39;49m To update, run: \u001b[0m\u001b[32;49mpip install --upgrade pip\u001b[0m\n"
     ]
    }
   ],
   "source": [
    "!pip install apyori  ## Installing apriori library"
   ]
  },
  {
   "cell_type": "code",
   "execution_count": 2,
   "metadata": {
    "execution": {
     "iopub.execute_input": "2023-08-28T19:46:51.970736Z",
     "iopub.status.busy": "2023-08-28T19:46:51.97037Z",
     "iopub.status.idle": "2023-08-28T19:46:52.64308Z",
     "shell.execute_reply": "2023-08-28T19:46:52.641812Z",
     "shell.execute_reply.started": "2023-08-28T19:46:51.970705Z"
    }
   },
   "outputs": [],
   "source": [
    "import numpy as np # linear algebra\n",
    "import pandas as pd # Data pre-processing\n",
    "import seaborn as sns # Required for plotting\n",
    "import matplotlib.pyplot as plt # Required for plotting"
   ]
  },
  {
   "cell_type": "code",
   "execution_count": 9,
   "metadata": {
    "execution": {
     "iopub.execute_input": "2023-08-28T19:47:37.238597Z",
     "iopub.status.busy": "2023-08-28T19:47:37.238267Z",
     "iopub.status.idle": "2023-08-28T19:47:37.358543Z",
     "shell.execute_reply": "2023-08-28T19:47:37.35757Z",
     "shell.execute_reply.started": "2023-08-28T19:47:37.238572Z"
    }
   },
   "outputs": [
    {
     "data": {
      "text/html": [
       "<div>\n",
       "<style scoped>\n",
       "    .dataframe tbody tr th:only-of-type {\n",
       "        vertical-align: middle;\n",
       "    }\n",
       "\n",
       "    .dataframe tbody tr th {\n",
       "        vertical-align: top;\n",
       "    }\n",
       "\n",
       "    .dataframe thead th {\n",
       "        text-align: right;\n",
       "    }\n",
       "</style>\n",
       "<table border=\"1\" class=\"dataframe\">\n",
       "  <thead>\n",
       "    <tr style=\"text-align: right;\">\n",
       "      <th></th>\n",
       "      <th>Member</th>\n",
       "      <th>Order</th>\n",
       "      <th>SKU</th>\n",
       "      <th>Created On</th>\n",
       "      <th>Description</th>\n",
       "    </tr>\n",
       "  </thead>\n",
       "  <tbody>\n",
       "    <tr>\n",
       "      <th>0</th>\n",
       "      <td>M09736</td>\n",
       "      <td>6468572</td>\n",
       "      <td>34993740</td>\n",
       "      <td>22-09-2014 22:45</td>\n",
       "      <td>Other Sauces</td>\n",
       "    </tr>\n",
       "    <tr>\n",
       "      <th>1</th>\n",
       "      <td>M09736</td>\n",
       "      <td>6468572</td>\n",
       "      <td>15669800</td>\n",
       "      <td>22-09-2014 22:45</td>\n",
       "      <td>Cashews</td>\n",
       "    </tr>\n",
       "    <tr>\n",
       "      <th>2</th>\n",
       "      <td>M09736</td>\n",
       "      <td>6468572</td>\n",
       "      <td>34989501</td>\n",
       "      <td>22-09-2014 22:45</td>\n",
       "      <td>Other Dals</td>\n",
       "    </tr>\n",
       "    <tr>\n",
       "      <th>3</th>\n",
       "      <td>M09736</td>\n",
       "      <td>6468572</td>\n",
       "      <td>7572303</td>\n",
       "      <td>22-09-2014 22:45</td>\n",
       "      <td>Namkeen</td>\n",
       "    </tr>\n",
       "    <tr>\n",
       "      <th>4</th>\n",
       "      <td>M09736</td>\n",
       "      <td>6468572</td>\n",
       "      <td>15669856</td>\n",
       "      <td>22-09-2014 22:45</td>\n",
       "      <td>Sugar</td>\n",
       "    </tr>\n",
       "  </tbody>\n",
       "</table>\n",
       "</div>"
      ],
      "text/plain": [
       "   Member    Order       SKU        Created On   Description\n",
       "0  M09736  6468572  34993740  22-09-2014 22:45  Other Sauces\n",
       "1  M09736  6468572  15669800  22-09-2014 22:45       Cashews\n",
       "2  M09736  6468572  34989501  22-09-2014 22:45    Other Dals\n",
       "3  M09736  6468572   7572303  22-09-2014 22:45       Namkeen\n",
       "4  M09736  6468572  15669856  22-09-2014 22:45         Sugar"
      ]
     },
     "execution_count": 9,
     "metadata": {},
     "output_type": "execute_result"
    }
   ],
   "source": [
    "df = pd.read_excel(\"IMB575-XLS-ENG.xlsx\")\n",
    "df.head()"
   ]
  },
  {
   "cell_type": "code",
   "execution_count": 14,
   "metadata": {
    "execution": {
     "iopub.execute_input": "2023-08-28T19:47:45.35245Z",
     "iopub.status.busy": "2023-08-28T19:47:45.352113Z",
     "iopub.status.idle": "2023-08-28T19:47:45.399112Z",
     "shell.execute_reply": "2023-08-28T19:47:45.398084Z",
     "shell.execute_reply.started": "2023-08-28T19:47:45.352422Z"
    }
   },
   "outputs": [
    {
     "name": "stdout",
     "output_type": "stream",
     "text": [
      "<class 'pandas.core.frame.DataFrame'>\n",
      "RangeIndex: 62141 entries, 0 to 62140\n",
      "Data columns (total 5 columns):\n",
      " #   Column       Non-Null Count  Dtype \n",
      "---  ------       --------------  ----- \n",
      " 0   Member       62141 non-null  object\n",
      " 1   Order        62141 non-null  int64 \n",
      " 2   SKU          62141 non-null  int64 \n",
      " 3   Created On   62141 non-null  object\n",
      " 4   Description  62141 non-null  object\n",
      "dtypes: int64(2), object(3)\n",
      "memory usage: 2.4+ MB\n"
     ]
    }
   ],
   "source": [
    "df.info()"
   ]
  },
  {
   "cell_type": "code",
   "execution_count": 15,
   "metadata": {
    "execution": {
     "iopub.execute_input": "2023-08-28T19:47:59.304364Z",
     "iopub.status.busy": "2023-08-28T19:47:59.304017Z",
     "iopub.status.idle": "2023-08-28T19:47:59.337013Z",
     "shell.execute_reply": "2023-08-28T19:47:59.336158Z",
     "shell.execute_reply.started": "2023-08-28T19:47:59.304336Z"
    }
   },
   "outputs": [
    {
     "data": {
      "text/plain": [
       "Member         0\n",
       "Order          0\n",
       "SKU            0\n",
       "Created On     0\n",
       "Description    0\n",
       "dtype: int64"
      ]
     },
     "execution_count": 15,
     "metadata": {},
     "output_type": "execute_result"
    }
   ],
   "source": [
    "df.isnull().sum().sort_values(ascending=False) ## Checking availability of NULL values"
   ]
  },
  {
   "cell_type": "code",
   "execution_count": 16,
   "metadata": {
    "execution": {
     "iopub.execute_input": "2023-08-28T19:48:43.373442Z",
     "iopub.status.busy": "2023-08-28T19:48:43.373077Z",
     "iopub.status.idle": "2023-08-28T19:48:43.384836Z",
     "shell.execute_reply": "2023-08-28T19:48:43.383462Z",
     "shell.execute_reply.started": "2023-08-28T19:48:43.373415Z"
    }
   },
   "outputs": [
    {
     "data": {
      "text/html": [
       "<div>\n",
       "<style scoped>\n",
       "    .dataframe tbody tr th:only-of-type {\n",
       "        vertical-align: middle;\n",
       "    }\n",
       "\n",
       "    .dataframe tbody tr th {\n",
       "        vertical-align: top;\n",
       "    }\n",
       "\n",
       "    .dataframe thead th {\n",
       "        text-align: right;\n",
       "    }\n",
       "</style>\n",
       "<table border=\"1\" class=\"dataframe\">\n",
       "  <thead>\n",
       "    <tr style=\"text-align: right;\">\n",
       "      <th></th>\n",
       "      <th>Member</th>\n",
       "      <th>Order</th>\n",
       "      <th>SKU</th>\n",
       "      <th>Created On</th>\n",
       "      <th>Description</th>\n",
       "    </tr>\n",
       "  </thead>\n",
       "  <tbody>\n",
       "    <tr>\n",
       "      <th>0</th>\n",
       "      <td>M09736</td>\n",
       "      <td>6468572</td>\n",
       "      <td>34993740</td>\n",
       "      <td>22-09-2014 22:45</td>\n",
       "      <td>Other Sauces</td>\n",
       "    </tr>\n",
       "    <tr>\n",
       "      <th>1</th>\n",
       "      <td>M09736</td>\n",
       "      <td>6468572</td>\n",
       "      <td>15669800</td>\n",
       "      <td>22-09-2014 22:45</td>\n",
       "      <td>Cashews</td>\n",
       "    </tr>\n",
       "    <tr>\n",
       "      <th>2</th>\n",
       "      <td>M09736</td>\n",
       "      <td>6468572</td>\n",
       "      <td>34989501</td>\n",
       "      <td>22-09-2014 22:45</td>\n",
       "      <td>Other Dals</td>\n",
       "    </tr>\n",
       "    <tr>\n",
       "      <th>3</th>\n",
       "      <td>M09736</td>\n",
       "      <td>6468572</td>\n",
       "      <td>7572303</td>\n",
       "      <td>22-09-2014 22:45</td>\n",
       "      <td>Namkeen</td>\n",
       "    </tr>\n",
       "    <tr>\n",
       "      <th>4</th>\n",
       "      <td>M09736</td>\n",
       "      <td>6468572</td>\n",
       "      <td>15669856</td>\n",
       "      <td>22-09-2014 22:45</td>\n",
       "      <td>Sugar</td>\n",
       "    </tr>\n",
       "  </tbody>\n",
       "</table>\n",
       "</div>"
      ],
      "text/plain": [
       "   Member    Order       SKU        Created On   Description\n",
       "0  M09736  6468572  34993740  22-09-2014 22:45  Other Sauces\n",
       "1  M09736  6468572  15669800  22-09-2014 22:45       Cashews\n",
       "2  M09736  6468572  34989501  22-09-2014 22:45    Other Dals\n",
       "3  M09736  6468572   7572303  22-09-2014 22:45       Namkeen\n",
       "4  M09736  6468572  15669856  22-09-2014 22:45         Sugar"
      ]
     },
     "execution_count": 16,
     "metadata": {},
     "output_type": "execute_result"
    }
   ],
   "source": [
    "df.head() ## Schema check"
   ]
  },
  {
   "cell_type": "code",
   "execution_count": 17,
   "metadata": {
    "execution": {
     "iopub.execute_input": "2023-08-28T20:05:36.390845Z",
     "iopub.status.busy": "2023-08-28T20:05:36.390479Z",
     "iopub.status.idle": "2023-08-28T20:05:36.642746Z",
     "shell.execute_reply": "2023-08-28T20:05:36.641843Z",
     "shell.execute_reply.started": "2023-08-28T20:05:36.390816Z"
    }
   },
   "outputs": [
    {
     "data": {
      "image/png": "[encoded data removed]",
      "text/plain": [
       "<Figure size 1600x900 with 1 Axes>"
      ]
     },
     "metadata": {},
     "output_type": "display_data"
    }
   ],
   "source": [
    "## Creating distribution of Item Sold\n",
    "\n",
    "Item_distr = df.groupby(by = \"Description\").size().reset_index(name='Frequency').sort_values(by = 'Frequency',ascending=False).head(10)\n",
    "\n",
    "## Declaring variables\n",
    "\n",
    "bars = Item_distr[\"Description\"]\n",
    "height = Item_distr[\"Frequency\"]\n",
    "x_pos = np.arange(len(bars))\n",
    "\n",
    "## Defining Figure Size\n",
    "\n",
    "plt.figure(figsize=(16,9))\n",
    "\n",
    "# Create bars\n",
    "plt.bar(x_pos, height, color='grey')\n",
    "\n",
    "# Add title and axis names\n",
    "plt.title(\"Top 10 Sold Items\")\n",
    "plt.xlabel(\"Item Name\")\n",
    "plt.ylabel(\"Number of Quantity Sold\")\n",
    "\n",
    "# Create names on the x-axis\n",
    "plt.xticks(x_pos, bars)\n",
    "\n",
    "# Show graph\n",
    "plt.show()"
   ]
  },
  {
   "cell_type": "code",
   "execution_count": 18,
   "metadata": {
    "execution": {
     "iopub.execute_input": "2023-08-28T19:51:23.306655Z",
     "iopub.status.busy": "2023-08-28T19:51:23.306316Z",
     "iopub.status.idle": "2023-08-28T19:51:23.319653Z",
     "shell.execute_reply": "2023-08-28T19:51:23.318719Z",
     "shell.execute_reply.started": "2023-08-28T19:51:23.306623Z"
    }
   },
   "outputs": [
    {
     "data": {
      "text/html": [
       "<div>\n",
       "<style scoped>\n",
       "    .dataframe tbody tr th:only-of-type {\n",
       "        vertical-align: middle;\n",
       "    }\n",
       "\n",
       "    .dataframe tbody tr th {\n",
       "        vertical-align: top;\n",
       "    }\n",
       "\n",
       "    .dataframe thead th {\n",
       "        text-align: right;\n",
       "    }\n",
       "</style>\n",
       "<table border=\"1\" class=\"dataframe\">\n",
       "  <thead>\n",
       "    <tr style=\"text-align: right;\">\n",
       "      <th></th>\n",
       "      <th>Member</th>\n",
       "      <th>Order</th>\n",
       "      <th>SKU</th>\n",
       "      <th>Description</th>\n",
       "    </tr>\n",
       "    <tr>\n",
       "      <th>Created On</th>\n",
       "      <th></th>\n",
       "      <th></th>\n",
       "      <th></th>\n",
       "      <th></th>\n",
       "    </tr>\n",
       "  </thead>\n",
       "  <tbody>\n",
       "    <tr>\n",
       "      <th>22-09-2014 22:45</th>\n",
       "      <td>M09736</td>\n",
       "      <td>6468572</td>\n",
       "      <td>34993740</td>\n",
       "      <td>Other Sauces</td>\n",
       "    </tr>\n",
       "    <tr>\n",
       "      <th>22-09-2014 22:45</th>\n",
       "      <td>M09736</td>\n",
       "      <td>6468572</td>\n",
       "      <td>15669800</td>\n",
       "      <td>Cashews</td>\n",
       "    </tr>\n",
       "    <tr>\n",
       "      <th>22-09-2014 22:45</th>\n",
       "      <td>M09736</td>\n",
       "      <td>6468572</td>\n",
       "      <td>34989501</td>\n",
       "      <td>Other Dals</td>\n",
       "    </tr>\n",
       "    <tr>\n",
       "      <th>22-09-2014 22:45</th>\n",
       "      <td>M09736</td>\n",
       "      <td>6468572</td>\n",
       "      <td>7572303</td>\n",
       "      <td>Namkeen</td>\n",
       "    </tr>\n",
       "    <tr>\n",
       "      <th>22-09-2014 22:45</th>\n",
       "      <td>M09736</td>\n",
       "      <td>6468572</td>\n",
       "      <td>15669856</td>\n",
       "      <td>Sugar</td>\n",
       "    </tr>\n",
       "    <tr>\n",
       "      <th>...</th>\n",
       "      <td>...</td>\n",
       "      <td>...</td>\n",
       "      <td>...</td>\n",
       "      <td>...</td>\n",
       "    </tr>\n",
       "    <tr>\n",
       "      <th>16-11-2013 00:43</th>\n",
       "      <td>M64379</td>\n",
       "      <td>8381435</td>\n",
       "      <td>15670260</td>\n",
       "      <td>Organic F&amp;V</td>\n",
       "    </tr>\n",
       "    <tr>\n",
       "      <th>16-11-2013 00:43</th>\n",
       "      <td>M64379</td>\n",
       "      <td>8381435</td>\n",
       "      <td>15668597</td>\n",
       "      <td>Exotic Vegetables</td>\n",
       "    </tr>\n",
       "    <tr>\n",
       "      <th>16-11-2013 00:43</th>\n",
       "      <td>M64379</td>\n",
       "      <td>8381435</td>\n",
       "      <td>7570555</td>\n",
       "      <td>Shoe Polish</td>\n",
       "    </tr>\n",
       "    <tr>\n",
       "      <th>16-11-2013 00:43</th>\n",
       "      <td>M64379</td>\n",
       "      <td>8381435</td>\n",
       "      <td>7587490</td>\n",
       "      <td>Organic Dals &amp; Pulses</td>\n",
       "    </tr>\n",
       "    <tr>\n",
       "      <th>16-11-2013 00:43</th>\n",
       "      <td>M64379</td>\n",
       "      <td>8381435</td>\n",
       "      <td>15669830</td>\n",
       "      <td>Other Rice Products</td>\n",
       "    </tr>\n",
       "  </tbody>\n",
       "</table>\n",
       "<p>62141 rows × 4 columns</p>\n",
       "</div>"
      ],
      "text/plain": [
       "                  Member    Order       SKU            Description\n",
       "Created On                                                        \n",
       "22-09-2014 22:45  M09736  6468572  34993740           Other Sauces\n",
       "22-09-2014 22:45  M09736  6468572  15669800                Cashews\n",
       "22-09-2014 22:45  M09736  6468572  34989501             Other Dals\n",
       "22-09-2014 22:45  M09736  6468572   7572303                Namkeen\n",
       "22-09-2014 22:45  M09736  6468572  15669856                  Sugar\n",
       "...                  ...      ...       ...                    ...\n",
       "16-11-2013 00:43  M64379  8381435  15670260            Organic F&V\n",
       "16-11-2013 00:43  M64379  8381435  15668597      Exotic Vegetables\n",
       "16-11-2013 00:43  M64379  8381435   7570555            Shoe Polish\n",
       "16-11-2013 00:43  M64379  8381435   7587490  Organic Dals & Pulses\n",
       "16-11-2013 00:43  M64379  8381435  15669830    Other Rice Products\n",
       "\n",
       "[62141 rows x 4 columns]"
      ]
     },
     "execution_count": 18,
     "metadata": {},
     "output_type": "execute_result"
    }
   ],
   "source": [
    "df_date=df.set_index(['Created On']) ## Setting date as index for plotting purpose\n",
    "df_date"
   ]
  },
  {
   "cell_type": "markdown",
   "metadata": {},
   "source": [
    "Here's a breakdown of what each part of the code does:\n",
    "\n",
    "cust_level = df[[\"Member\", \"Description\"]].sort_values(by=\"Member\", ascending=False): This line of code selects the columns \"Member\" and \"Description\" from the DataFrame df and creates a new DataFrame called cust_level. It then sorts the rows of this new DataFrame based on the values in the \"Member\" column in descending order (highest values first).\n",
    "\n",
    "cust_level['Description'] = cust_level['Description'].str.strip(): This line of code modifies the \"Description\" column in the cust_level DataFrame. It uses the .str.strip() method to remove any leading or trailing white spaces from the text in the \"Description\" column.\n",
    "\n",
    "cust_level: This line simply displays the resulting cust_level DataFrame after the above operations.\n",
    "\n",
    "In summary, the code is selecting specific columns from the original DataFrame, sorting them based on the \"Member\" column in descending order, and then removing any leading or trailing white spaces from the \"Description\" column.\n"
   ]
  },
  {
   "cell_type": "code",
   "execution_count": 19,
   "metadata": {
    "execution": {
     "iopub.execute_input": "2023-08-28T19:55:09.984095Z",
     "iopub.status.busy": "2023-08-28T19:55:09.983741Z",
     "iopub.status.idle": "2023-08-28T19:55:10.0432Z",
     "shell.execute_reply": "2023-08-28T19:55:10.042165Z",
     "shell.execute_reply.started": "2023-08-28T19:55:09.984068Z"
    }
   },
   "outputs": [
    {
     "data": {
      "text/html": [
       "<div>\n",
       "<style scoped>\n",
       "    .dataframe tbody tr th:only-of-type {\n",
       "        vertical-align: middle;\n",
       "    }\n",
       "\n",
       "    .dataframe tbody tr th {\n",
       "        vertical-align: top;\n",
       "    }\n",
       "\n",
       "    .dataframe thead th {\n",
       "        text-align: right;\n",
       "    }\n",
       "</style>\n",
       "<table border=\"1\" class=\"dataframe\">\n",
       "  <thead>\n",
       "    <tr style=\"text-align: right;\">\n",
       "      <th></th>\n",
       "      <th>Member</th>\n",
       "      <th>Description</th>\n",
       "    </tr>\n",
       "  </thead>\n",
       "  <tbody>\n",
       "    <tr>\n",
       "      <th>7358</th>\n",
       "      <td>M99206</td>\n",
       "      <td>Other Dals</td>\n",
       "    </tr>\n",
       "    <tr>\n",
       "      <th>7437</th>\n",
       "      <td>M99206</td>\n",
       "      <td>Root Vegetables</td>\n",
       "    </tr>\n",
       "    <tr>\n",
       "      <th>7425</th>\n",
       "      <td>M99206</td>\n",
       "      <td>Health Drinks</td>\n",
       "    </tr>\n",
       "    <tr>\n",
       "      <th>7426</th>\n",
       "      <td>M99206</td>\n",
       "      <td>Namkeen</td>\n",
       "    </tr>\n",
       "    <tr>\n",
       "      <th>7427</th>\n",
       "      <td>M99206</td>\n",
       "      <td>Namkeen</td>\n",
       "    </tr>\n",
       "    <tr>\n",
       "      <th>...</th>\n",
       "      <td>...</td>\n",
       "      <td>...</td>\n",
       "    </tr>\n",
       "    <tr>\n",
       "      <th>7738</th>\n",
       "      <td>M04158</td>\n",
       "      <td>Root Vegetables</td>\n",
       "    </tr>\n",
       "    <tr>\n",
       "      <th>7737</th>\n",
       "      <td>M04158</td>\n",
       "      <td>Other Dals</td>\n",
       "    </tr>\n",
       "    <tr>\n",
       "      <th>7736</th>\n",
       "      <td>M04158</td>\n",
       "      <td>Other Dals</td>\n",
       "    </tr>\n",
       "    <tr>\n",
       "      <th>7735</th>\n",
       "      <td>M04158</td>\n",
       "      <td>Ghee</td>\n",
       "    </tr>\n",
       "    <tr>\n",
       "      <th>7895</th>\n",
       "      <td>M04158</td>\n",
       "      <td>Bread</td>\n",
       "    </tr>\n",
       "  </tbody>\n",
       "</table>\n",
       "<p>62141 rows × 2 columns</p>\n",
       "</div>"
      ],
      "text/plain": [
       "      Member      Description\n",
       "7358  M99206       Other Dals\n",
       "7437  M99206  Root Vegetables\n",
       "7425  M99206    Health Drinks\n",
       "7426  M99206          Namkeen\n",
       "7427  M99206          Namkeen\n",
       "...      ...              ...\n",
       "7738  M04158  Root Vegetables\n",
       "7737  M04158       Other Dals\n",
       "7736  M04158       Other Dals\n",
       "7735  M04158             Ghee\n",
       "7895  M04158            Bread\n",
       "\n",
       "[62141 rows x 2 columns]"
      ]
     },
     "execution_count": 19,
     "metadata": {},
     "output_type": "execute_result"
    }
   ],
   "source": [
    "cust_level = df[[\"Member\", \"Description\"]].sort_values(by = \"Member\", ascending = False) ## Selecting only required variables for modelling\n",
    "cust_level['Description'] = cust_level['Description'].str.strip() # Removing white spaces if any\n",
    "cust_level"
   ]
  },
  {
   "cell_type": "markdown",
   "metadata": {},
   "source": [
    "Here's a breakdown of what's happening:\n",
    "\n",
    "transactions = [a[1]['Description'].tolist() for a in list(cust_level.groupby(['Member']))]: This line of code is creating a list comprehension that iterates through each group of customers in the cust_level DataFrame, grouped by the \"Member\" column. The result of the groupby operation is a collection of tuples where the first element is the customer identifier (\"Member\") and the second element is a DataFrame containing rows for that particular customer.\n",
    "\n",
    "For each of these tuples, the code extracts the \"Description\" column from the DataFrame (the second element of the tuple) using a[1]['Description'], and then converts it to a list using .tolist().\n",
    "\n",
    "The list comprehension creates a list of lists, where each inner list corresponds to a specific customer's list of descriptions.\n",
    "\n",
    "So, at the end of this operation, the transactions list will contain sublists where each sublist contains the descriptions associated with a specific customer.\n",
    "Each sublist contains the descriptions for a particular customer, and the outer list (transactions) contains these sublists for all customers."
   ]
  },
  {
   "cell_type": "code",
   "execution_count": 20,
   "metadata": {
    "execution": {
     "iopub.execute_input": "2023-08-28T19:55:37.500637Z",
     "iopub.status.busy": "2023-08-28T19:55:37.500272Z",
     "iopub.status.idle": "2023-08-28T19:55:37.52733Z",
     "shell.execute_reply": "2023-08-28T19:55:37.526536Z",
     "shell.execute_reply.started": "2023-08-28T19:55:37.500609Z"
    }
   },
   "outputs": [
    {
     "name": "stderr",
     "output_type": "stream",
     "text": [
      "/var/folders/2c/db_0lrw50h16d5cqvl89fg3c0000gn/T/ipykernel_50385/3477287347.py:1: FutureWarning: In a future version of pandas, a length 1 tuple will be returned when iterating over a groupby with a grouper equal to a list of length 1. Don't supply a list with a single grouper to avoid this warning.\n",
      "  transactions = [a[1]['Description'].tolist() for a in list(cust_level.groupby(['Member']))] ## Combing all the items in list format for each cutomer\n"
     ]
    }
   ],
   "source": [
    "transactions = [a[1]['Description'].tolist() for a in list(cust_level.groupby(['Member']))] ## Combing all the items in list format for each cutomer"
   ]
  },
  {
   "cell_type": "markdown",
   "metadata": {},
   "source": []
  },
  {
   "cell_type": "code",
   "execution_count": 21,
   "metadata": {
    "execution": {
     "iopub.execute_input": "2023-08-28T19:57:01.346883Z",
     "iopub.status.busy": "2023-08-28T19:57:01.346486Z",
     "iopub.status.idle": "2023-08-28T19:57:01.351621Z",
     "shell.execute_reply": "2023-08-28T19:57:01.350824Z",
     "shell.execute_reply.started": "2023-08-28T19:57:01.346852Z"
    }
   },
   "outputs": [],
   "source": [
    "#transactions"
   ]
  },
  {
   "cell_type": "code",
   "execution_count": 22,
   "metadata": {
    "execution": {
     "iopub.execute_input": "2023-08-28T20:11:13.351875Z",
     "iopub.status.busy": "2023-08-28T20:11:13.351547Z",
     "iopub.status.idle": "2023-08-28T20:11:13.358438Z",
     "shell.execute_reply": "2023-08-28T20:11:13.356932Z",
     "shell.execute_reply.started": "2023-08-28T20:11:13.351851Z"
    }
   },
   "outputs": [],
   "source": [
    "from apyori import apriori ## Importing apriori package\n",
    "rules = apriori(transactions = transactions, min_support = 0.002, min_confidence = 0.05, min_lift = 3, min_length = 2, max_length = 2) ## Model Creation"
   ]
  },
  {
   "cell_type": "markdown",
   "metadata": {},
   "source": [
    "Here's what each part of the code is doing:\n",
    "\n",
    "from apyori import apriori: This line imports the apriori function from the apyori package, which is used for generating association rules using the Apriori algorithm.\n",
    "\n",
    "rules = apriori(transactions=transactions, min_support=0.002, min_confidence=0.05, min_lift=3, min_length=2, max_length=2): This line of code uses the apriori function to create association rules. Here's what each parameter means:\n",
    "\n",
    "transactions: The list of lists containing the transaction data, where each sublist represents the descriptions for a specific customer.\n",
    "\n",
    "min_support: The minimum support threshold for an itemset to be considered frequent. This parameter determines how common an itemset should be in the transactions.\n",
    "\n",
    "min_confidence: The minimum confidence threshold for a rule to be generated. This parameter defines how strong the relationships between items in the rule should be.\n",
    "\n",
    "min_lift: The minimum lift threshold for a rule to be generated. Lift measures the strength of association between items in a rule, relative to their individual occurrence.\n",
    "\n",
    "min_length: The minimum number of items in an itemset (antecedent and consequent combined) to be considered for rule generation.\n",
    "\n",
    "max_length: The maximum number of items in an itemset (antecedent and consequent combined) to be considered for rule generation.\n",
    "\n",
    "The rules variable will contain the generated association rules based on the parameters you've provided.\n",
    "\n",
    "In summary, this code uses the Apriori algorithm to generate association rules from the transaction data. The rules will reflect associations between pairs of items (antecedent and consequent) that satisfy the specified support, confidence, lift, and length criteria."
   ]
  },
  {
   "cell_type": "code",
   "execution_count": 23,
   "metadata": {
    "execution": {
     "iopub.execute_input": "2023-08-28T19:58:42.644085Z",
     "iopub.status.busy": "2023-08-28T19:58:42.643711Z",
     "iopub.status.idle": "2023-08-28T19:58:42.885142Z",
     "shell.execute_reply": "2023-08-28T19:58:42.883526Z",
     "shell.execute_reply.started": "2023-08-28T19:58:42.644057Z"
    }
   },
   "outputs": [],
   "source": [
    "results = list(rules) ## Storing results in list format for better visualisation"
   ]
  },
  {
   "cell_type": "code",
   "execution_count": 24,
   "metadata": {
    "execution": {
     "iopub.execute_input": "2023-08-28T19:58:58.10697Z",
     "iopub.status.busy": "2023-08-28T19:58:58.106616Z",
     "iopub.status.idle": "2023-08-28T19:58:58.110938Z",
     "shell.execute_reply": "2023-08-28T19:58:58.110091Z",
     "shell.execute_reply.started": "2023-08-28T19:58:58.106944Z"
    }
   },
   "outputs": [],
   "source": [
    "#results"
   ]
  },
  {
   "cell_type": "markdown",
   "metadata": {},
   "source": [
    "Here's a breakdown of what's happening in your code:\n",
    "\n",
    "def inspect(results): This line defines a function named inspect that takes the results generated by the Apriori algorithm as input.\n",
    "\n",
    "Inside the function:\n",
    "\n",
    "lhs = [tuple(result[2][0][0])[0] for result in results]: This line extracts the item on the left-hand side (antecedent) of each rule.\n",
    "rhs = [tuple(result[2][0][1])[0] for result in results]: This line extracts the item on the right-hand side (consequent) of each rule.\n",
    "supports = [result[1] for result in results]: This line extracts the support value for each rule.\n",
    "confidences = [result[2][0][2] for result in results]: This line extracts the confidence value for each rule.\n",
    "lifts = [result[2][0][3] for result in results]: This line extracts the lift value for each rule.\n",
    "return list(zip(lhs, rhs, supports, confidences, lifts)): This line returns a list of tuples, where each tuple contains the extracted values (lhs, rhs, supports, confidences, lifts) for a specific rule.\n",
    "\n",
    "resultsinDataFrame = pd.DataFrame(inspect(results), columns=['Left Hand Side', 'Right Hand Side', 'Support', 'Confidence', 'Lift']): This line uses the inspect function to process the results obtained from Apriori and creates a pandas DataFrame named resultsinDataFrame. Each column of the DataFrame corresponds to a piece of information about the rules: left-hand side, right-hand side, support, confidence, and lift.\n",
    "\n",
    "In summary, this code defines a function to extract and organize rule information from the results of the Apriori algorithm. It then creates a DataFrame to store this information for further analysis and interpretation."
   ]
  },
  {
   "cell_type": "code",
   "execution_count": 25,
   "metadata": {
    "execution": {
     "iopub.execute_input": "2023-08-28T20:11:16.389131Z",
     "iopub.status.busy": "2023-08-28T20:11:16.388269Z",
     "iopub.status.idle": "2023-08-28T20:11:16.399749Z",
     "shell.execute_reply": "2023-08-28T20:11:16.398572Z",
     "shell.execute_reply.started": "2023-08-28T20:11:16.389076Z"
    }
   },
   "outputs": [],
   "source": [
    "## Creating user-defined function for arranging the results obtained from model into readable format\n",
    "\n",
    "def inspect(results):\n",
    "    lhs         = [tuple(result[2][0][0])[0] for result in results]\n",
    "    rhs         = [tuple(result[2][0][1])[0] for result in results]\n",
    "    supports    = [result[1] for result in results]\n",
    "    confidences = [result[2][0][2] for result in results]\n",
    "    lifts       = [result[2][0][3] for result in results]\n",
    "    return list(zip(lhs, rhs, supports, confidences, lifts))\n",
    "resultsinDataFrame = pd.DataFrame(inspect(results), columns = ['Left Hand Side', 'Right Hand Side', 'Support', 'Confidence', 'Lift'])"
   ]
  },
  {
   "cell_type": "markdown",
   "metadata": {},
   "source": [
    "The code resultsinDataFrame.nlargest(n=20, columns=\"Lift\") is used to display the top 20 association rules with the highest lift values from the resultsinDataFrame DataFrame. Lift measures the strength of association between items in a rule, so by sorting the rules in descending order of lift values and selecting the top 20, you're showing the most significant associations. This can help in identifying interesting and potentially valuable relationships between items.\n",
    "\n",
    "In this code:\n",
    "\n",
    "resultsinDataFrame is the DataFrame that contains the association rule information.\n",
    ".nlargest(n=20, columns=\"Lift\") is a pandas DataFrame method that returns the top n rows based on the specified column (in this case, \"Lift\").\n",
    "So, the resulting DataFrame will show the top 20 rules with the highest lift values, which represent the most influential relationships between items based on your Apriori analysis."
   ]
  },
  {
   "cell_type": "code",
   "execution_count": 26,
   "metadata": {
    "execution": {
     "iopub.execute_input": "2023-08-28T20:11:20.158333Z",
     "iopub.status.busy": "2023-08-28T20:11:20.157994Z",
     "iopub.status.idle": "2023-08-28T20:11:20.178481Z",
     "shell.execute_reply": "2023-08-28T20:11:20.177295Z",
     "shell.execute_reply.started": "2023-08-28T20:11:20.158308Z"
    }
   },
   "outputs": [
    {
     "data": {
      "text/html": [
       "<div>\n",
       "<style scoped>\n",
       "    .dataframe tbody tr th:only-of-type {\n",
       "        vertical-align: middle;\n",
       "    }\n",
       "\n",
       "    .dataframe tbody tr th {\n",
       "        vertical-align: top;\n",
       "    }\n",
       "\n",
       "    .dataframe thead th {\n",
       "        text-align: right;\n",
       "    }\n",
       "</style>\n",
       "<table border=\"1\" class=\"dataframe\">\n",
       "  <thead>\n",
       "    <tr style=\"text-align: right;\">\n",
       "      <th></th>\n",
       "      <th>Left Hand Side</th>\n",
       "      <th>Right Hand Side</th>\n",
       "      <th>Support</th>\n",
       "      <th>Confidence</th>\n",
       "      <th>Lift</th>\n",
       "    </tr>\n",
       "  </thead>\n",
       "  <tbody>\n",
       "    <tr>\n",
       "      <th>3</th>\n",
       "      <td>After Shave</td>\n",
       "      <td>Dairy &amp; Cheese</td>\n",
       "      <td>0.009434</td>\n",
       "      <td>1.0</td>\n",
       "      <td>106.0</td>\n",
       "    </tr>\n",
       "    <tr>\n",
       "      <th>11</th>\n",
       "      <td>After Shave</td>\n",
       "      <td>Organic Edible Oils &amp; Ghee</td>\n",
       "      <td>0.009434</td>\n",
       "      <td>1.0</td>\n",
       "      <td>106.0</td>\n",
       "    </tr>\n",
       "    <tr>\n",
       "      <th>98</th>\n",
       "      <td>Baby Care Accessories</td>\n",
       "      <td>Foot Care</td>\n",
       "      <td>0.009434</td>\n",
       "      <td>1.0</td>\n",
       "      <td>106.0</td>\n",
       "    </tr>\n",
       "    <tr>\n",
       "      <th>205</th>\n",
       "      <td>Battery</td>\n",
       "      <td>Tea</td>\n",
       "      <td>0.009434</td>\n",
       "      <td>1.0</td>\n",
       "      <td>106.0</td>\n",
       "    </tr>\n",
       "    <tr>\n",
       "      <th>239</th>\n",
       "      <td>Biscuits</td>\n",
       "      <td>Lip Care</td>\n",
       "      <td>0.009434</td>\n",
       "      <td>1.0</td>\n",
       "      <td>106.0</td>\n",
       "    </tr>\n",
       "    <tr>\n",
       "      <th>272</th>\n",
       "      <td>Body Lotion</td>\n",
       "      <td>Talc</td>\n",
       "      <td>0.009434</td>\n",
       "      <td>1.0</td>\n",
       "      <td>106.0</td>\n",
       "    </tr>\n",
       "    <tr>\n",
       "      <th>587</th>\n",
       "      <td>Dairy &amp; Cheese</td>\n",
       "      <td>Organic Edible Oils &amp; Ghee</td>\n",
       "      <td>0.009434</td>\n",
       "      <td>1.0</td>\n",
       "      <td>106.0</td>\n",
       "    </tr>\n",
       "    <tr>\n",
       "      <th>4</th>\n",
       "      <td>After Shave</td>\n",
       "      <td>Hand Sanitizer</td>\n",
       "      <td>0.009434</td>\n",
       "      <td>1.0</td>\n",
       "      <td>53.0</td>\n",
       "    </tr>\n",
       "    <tr>\n",
       "      <th>89</th>\n",
       "      <td>Baby Care Accessories</td>\n",
       "      <td>Baby Cereal</td>\n",
       "      <td>0.009434</td>\n",
       "      <td>1.0</td>\n",
       "      <td>53.0</td>\n",
       "    </tr>\n",
       "    <tr>\n",
       "      <th>90</th>\n",
       "      <td>Baby Care Accessories</td>\n",
       "      <td>Beverages</td>\n",
       "      <td>0.009434</td>\n",
       "      <td>1.0</td>\n",
       "      <td>53.0</td>\n",
       "    </tr>\n",
       "    <tr>\n",
       "      <th>126</th>\n",
       "      <td>Baby Cereal</td>\n",
       "      <td>Foot Care</td>\n",
       "      <td>0.009434</td>\n",
       "      <td>0.5</td>\n",
       "      <td>53.0</td>\n",
       "    </tr>\n",
       "    <tr>\n",
       "      <th>191</th>\n",
       "      <td>Battery</td>\n",
       "      <td>Chocolate</td>\n",
       "      <td>0.009434</td>\n",
       "      <td>1.0</td>\n",
       "      <td>53.0</td>\n",
       "    </tr>\n",
       "    <tr>\n",
       "      <th>195</th>\n",
       "      <td>Battery</td>\n",
       "      <td>Festive Gift Packs</td>\n",
       "      <td>0.009434</td>\n",
       "      <td>1.0</td>\n",
       "      <td>53.0</td>\n",
       "    </tr>\n",
       "    <tr>\n",
       "      <th>212</th>\n",
       "      <td>Beverages</td>\n",
       "      <td>Foot Care</td>\n",
       "      <td>0.009434</td>\n",
       "      <td>0.5</td>\n",
       "      <td>53.0</td>\n",
       "    </tr>\n",
       "    <tr>\n",
       "      <th>215</th>\n",
       "      <td>Beverages</td>\n",
       "      <td>Magazine</td>\n",
       "      <td>0.009434</td>\n",
       "      <td>0.5</td>\n",
       "      <td>53.0</td>\n",
       "    </tr>\n",
       "    <tr>\n",
       "      <th>236</th>\n",
       "      <td>Biscuits</td>\n",
       "      <td>Ice Cream</td>\n",
       "      <td>0.009434</td>\n",
       "      <td>1.0</td>\n",
       "      <td>53.0</td>\n",
       "    </tr>\n",
       "    <tr>\n",
       "      <th>292</th>\n",
       "      <td>Bottle &amp; Tin Openers</td>\n",
       "      <td>Ladles &amp; Spatulas</td>\n",
       "      <td>0.009434</td>\n",
       "      <td>1.0</td>\n",
       "      <td>53.0</td>\n",
       "    </tr>\n",
       "    <tr>\n",
       "      <th>432</th>\n",
       "      <td>Chocolate</td>\n",
       "      <td>Tea</td>\n",
       "      <td>0.009434</td>\n",
       "      <td>0.5</td>\n",
       "      <td>53.0</td>\n",
       "    </tr>\n",
       "    <tr>\n",
       "      <th>449</th>\n",
       "      <td>Colours</td>\n",
       "      <td>Cutters, Peelers &amp; Scrapers</td>\n",
       "      <td>0.009434</td>\n",
       "      <td>0.5</td>\n",
       "      <td>53.0</td>\n",
       "    </tr>\n",
       "    <tr>\n",
       "      <th>468</th>\n",
       "      <td>Colours</td>\n",
       "      <td>Pens</td>\n",
       "      <td>0.009434</td>\n",
       "      <td>0.5</td>\n",
       "      <td>53.0</td>\n",
       "    </tr>\n",
       "  </tbody>\n",
       "</table>\n",
       "</div>"
      ],
      "text/plain": [
       "            Left Hand Side              Right Hand Side   Support  Confidence  \\\n",
       "3              After Shave               Dairy & Cheese  0.009434         1.0   \n",
       "11             After Shave   Organic Edible Oils & Ghee  0.009434         1.0   \n",
       "98   Baby Care Accessories                    Foot Care  0.009434         1.0   \n",
       "205                Battery                          Tea  0.009434         1.0   \n",
       "239               Biscuits                     Lip Care  0.009434         1.0   \n",
       "272            Body Lotion                         Talc  0.009434         1.0   \n",
       "587         Dairy & Cheese   Organic Edible Oils & Ghee  0.009434         1.0   \n",
       "4              After Shave               Hand Sanitizer  0.009434         1.0   \n",
       "89   Baby Care Accessories                  Baby Cereal  0.009434         1.0   \n",
       "90   Baby Care Accessories                    Beverages  0.009434         1.0   \n",
       "126            Baby Cereal                    Foot Care  0.009434         0.5   \n",
       "191                Battery                    Chocolate  0.009434         1.0   \n",
       "195                Battery           Festive Gift Packs  0.009434         1.0   \n",
       "212              Beverages                    Foot Care  0.009434         0.5   \n",
       "215              Beverages                     Magazine  0.009434         0.5   \n",
       "236               Biscuits                    Ice Cream  0.009434         1.0   \n",
       "292   Bottle & Tin Openers            Ladles & Spatulas  0.009434         1.0   \n",
       "432              Chocolate                          Tea  0.009434         0.5   \n",
       "449                Colours  Cutters, Peelers & Scrapers  0.009434         0.5   \n",
       "468                Colours                         Pens  0.009434         0.5   \n",
       "\n",
       "      Lift  \n",
       "3    106.0  \n",
       "11   106.0  \n",
       "98   106.0  \n",
       "205  106.0  \n",
       "239  106.0  \n",
       "272  106.0  \n",
       "587  106.0  \n",
       "4     53.0  \n",
       "89    53.0  \n",
       "90    53.0  \n",
       "126   53.0  \n",
       "191   53.0  \n",
       "195   53.0  \n",
       "212   53.0  \n",
       "215   53.0  \n",
       "236   53.0  \n",
       "292   53.0  \n",
       "432   53.0  \n",
       "449   53.0  \n",
       "468   53.0  "
      ]
     },
     "execution_count": 26,
     "metadata": {},
     "output_type": "execute_result"
    }
   ],
   "source": [
    "resultsinDataFrame.nlargest(n=20, columns=\"Lift\") ## Showing best possible scenarios"
   ]
  },
  {
   "cell_type": "code",
   "execution_count": null,
   "metadata": {},
   "outputs": [],
   "source": []
  }
 ],
 "metadata": {
  "kaggle": {
   "accelerator": "none",
   "dataSources": [
    {
     "datasetId": 3399089,
     "sourceId": 6449747,
     "sourceType": "datasetVersion"
    }
   ],
   "dockerImageVersionId": 30527,
   "isGpuEnabled": false,
   "isInternetEnabled": false,
   "language": "python",
   "sourceType": "notebook"
  },
  "kernelspec": {
   "display_name": "Python 3 (ipykernel)",
   "language": "python",
   "name": "python3"
  },
  "language_info": {
   "codemirror_mode": {
    "name": "ipython",
    "version": 3
   },
   "file_extension": ".py",
   "mimetype": "text/x-python",
   "name": "python",
   "nbconvert_exporter": "python",
   "pygments_lexer": "ipython3",
   "version": "3.11.1"
  }
 },
 "nbformat": 4,
 "nbformat_minor": 4
}
