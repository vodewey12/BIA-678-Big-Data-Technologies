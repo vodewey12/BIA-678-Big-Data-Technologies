{
 "cells": [
  {
   "cell_type": "markdown",
   "id": "610fcdee",
   "metadata": {},
   "source": [
    "# Bigbasket Support Confidence and Lift"
   ]
  },
  {
   "cell_type": "code",
   "execution_count": 37,
   "id": "844b74a4",
   "metadata": {},
   "outputs": [],
   "source": [
    "import pandas as pd\n",
    "from mlxtend.frequent_patterns import apriori, association_rules "
   ]
  },
  {
   "cell_type": "code",
   "execution_count": 8,
   "id": "c407c3c0",
   "metadata": {},
   "outputs": [
    {
     "data": {
      "text/html": [
       "<div>\n",
       "<style scoped>\n",
       "    .dataframe tbody tr th:only-of-type {\n",
       "        vertical-align: middle;\n",
       "    }\n",
       "\n",
       "    .dataframe tbody tr th {\n",
       "        vertical-align: top;\n",
       "    }\n",
       "\n",
       "    .dataframe thead th {\n",
       "        text-align: right;\n",
       "    }\n",
       "</style>\n",
       "<table border=\"1\" class=\"dataframe\">\n",
       "  <thead>\n",
       "    <tr style=\"text-align: right;\">\n",
       "      <th></th>\n",
       "      <th>Member</th>\n",
       "      <th>Order</th>\n",
       "      <th>SKU</th>\n",
       "      <th>Created On</th>\n",
       "      <th>Description</th>\n",
       "    </tr>\n",
       "  </thead>\n",
       "  <tbody>\n",
       "    <tr>\n",
       "      <th>0</th>\n",
       "      <td>M09736</td>\n",
       "      <td>6468572</td>\n",
       "      <td>34993740</td>\n",
       "      <td>22-09-2014 22:45</td>\n",
       "      <td>Other Sauces</td>\n",
       "    </tr>\n",
       "    <tr>\n",
       "      <th>1</th>\n",
       "      <td>M09736</td>\n",
       "      <td>6468572</td>\n",
       "      <td>15669800</td>\n",
       "      <td>22-09-2014 22:45</td>\n",
       "      <td>Cashews</td>\n",
       "    </tr>\n",
       "    <tr>\n",
       "      <th>2</th>\n",
       "      <td>M09736</td>\n",
       "      <td>6468572</td>\n",
       "      <td>34989501</td>\n",
       "      <td>22-09-2014 22:45</td>\n",
       "      <td>Other Dals</td>\n",
       "    </tr>\n",
       "    <tr>\n",
       "      <th>3</th>\n",
       "      <td>M09736</td>\n",
       "      <td>6468572</td>\n",
       "      <td>7572303</td>\n",
       "      <td>22-09-2014 22:45</td>\n",
       "      <td>Namkeen</td>\n",
       "    </tr>\n",
       "    <tr>\n",
       "      <th>4</th>\n",
       "      <td>M09736</td>\n",
       "      <td>6468572</td>\n",
       "      <td>15669856</td>\n",
       "      <td>22-09-2014 22:45</td>\n",
       "      <td>Sugar</td>\n",
       "    </tr>\n",
       "  </tbody>\n",
       "</table>\n",
       "</div>"
      ],
      "text/plain": [
       "   Member    Order       SKU        Created On   Description\n",
       "0  M09736  6468572  34993740  22-09-2014 22:45  Other Sauces\n",
       "1  M09736  6468572  15669800  22-09-2014 22:45       Cashews\n",
       "2  M09736  6468572  34989501  22-09-2014 22:45    Other Dals\n",
       "3  M09736  6468572   7572303  22-09-2014 22:45       Namkeen\n",
       "4  M09736  6468572  15669856  22-09-2014 22:45         Sugar"
      ]
     },
     "execution_count": 8,
     "metadata": {},
     "output_type": "execute_result"
    }
   ],
   "source": [
    "df = pd.read_excel(\"IMB575-XLS-ENG.xlsx\")\n",
    "df.head()"
   ]
  },
  {
   "cell_type": "code",
   "execution_count": 12,
   "id": "c86437e5",
   "metadata": {},
   "outputs": [
    {
     "data": {
      "text/html": [
       "<div>\n",
       "<style scoped>\n",
       "    .dataframe tbody tr th:only-of-type {\n",
       "        vertical-align: middle;\n",
       "    }\n",
       "\n",
       "    .dataframe tbody tr th {\n",
       "        vertical-align: top;\n",
       "    }\n",
       "\n",
       "    .dataframe thead th {\n",
       "        text-align: right;\n",
       "    }\n",
       "</style>\n",
       "<table border=\"1\" class=\"dataframe\">\n",
       "  <thead>\n",
       "    <tr style=\"text-align: right;\">\n",
       "      <th></th>\n",
       "      <th>Order</th>\n",
       "      <th>Items</th>\n",
       "    </tr>\n",
       "  </thead>\n",
       "  <tbody>\n",
       "    <tr>\n",
       "      <th>0</th>\n",
       "      <td>6422558</td>\n",
       "      <td>[Health Drinks, Sugar, Mosquito Repellent, Roo...</td>\n",
       "    </tr>\n",
       "    <tr>\n",
       "      <th>1</th>\n",
       "      <td>6422636</td>\n",
       "      <td>[Beans, Toor Dal, Sunflower Oils, Brinjals, Go...</td>\n",
       "    </tr>\n",
       "    <tr>\n",
       "      <th>2</th>\n",
       "      <td>6423338</td>\n",
       "      <td>[Sooji &amp; Rava, Beans, Toor Dal, Almonds, Cashe...</td>\n",
       "    </tr>\n",
       "    <tr>\n",
       "      <th>3</th>\n",
       "      <td>6423534</td>\n",
       "      <td>[Cookies, Facial Tissues, Cakes, Organic F&amp;V]</td>\n",
       "    </tr>\n",
       "    <tr>\n",
       "      <th>4</th>\n",
       "      <td>6423959</td>\n",
       "      <td>[Other Dals, Namkeen, Other Sweets, Sunflower ...</td>\n",
       "    </tr>\n",
       "  </tbody>\n",
       "</table>\n",
       "</div>"
      ],
      "text/plain": [
       "     Order                                              Items\n",
       "0  6422558  [Health Drinks, Sugar, Mosquito Repellent, Roo...\n",
       "1  6422636  [Beans, Toor Dal, Sunflower Oils, Brinjals, Go...\n",
       "2  6423338  [Sooji & Rava, Beans, Toor Dal, Almonds, Cashe...\n",
       "3  6423534      [Cookies, Facial Tissues, Cakes, Organic F&V]\n",
       "4  6423959  [Other Dals, Namkeen, Other Sweets, Sunflower ..."
      ]
     },
     "execution_count": 12,
     "metadata": {},
     "output_type": "execute_result"
    }
   ],
   "source": [
    "df_grouped = df.groupby('Order').agg({'Description': lambda x: list(set(x))}).reset_index()\n",
    "df_grouped = df_grouped.rename(columns={'Description': 'Items'})\n",
    "df_grouped.head()"
   ]
  },
  {
   "cell_type": "code",
   "execution_count": 44,
   "id": "f9d8fed0",
   "metadata": {},
   "outputs": [
    {
     "name": "stderr",
     "output_type": "stream",
     "text": [
      "/var/folders/2c/db_0lrw50h16d5cqvl89fg3c0000gn/T/ipykernel_46941/638049410.py:7: FutureWarning: Using the level keyword in DataFrame and Series aggregations is deprecated and will be removed in a future version. Use groupby instead. df.sum(level=1) should use df.groupby(level=1).sum().\n",
      "  itemset = itemset.stack().str.get_dummies().sum(level=0)\n",
      "/Library/Frameworks/Python.framework/Versions/3.11/lib/python3.11/site-packages/mlxtend/frequent_patterns/fpcommon.py:109: DeprecationWarning: DataFrames with non-bool types result in worse computationalperformance and their support might be discontinued in the future.Please use a DataFrame with bool type\n",
      "  warnings.warn(\n"
     ]
    }
   ],
   "source": [
    "# Remove the transaction ID column\n",
    "transactions = df_grouped['Items']\n",
    "\n",
    "# # Convert transactions to a list of lists\n",
    "transaction_list = transactions.tolist()\n",
    "itemset = pd.DataFrame(transaction_list)\n",
    "itemset = itemset.stack().str.get_dummies().sum(level=0)\n",
    "\n"
   ]
  },
  {
   "cell_type": "code",
   "execution_count": 47,
   "id": "eb079f49",
   "metadata": {},
   "outputs": [
    {
     "name": "stdout",
     "output_type": "stream",
     "text": [
      "    support                       itemsets\n",
      "0  0.062001                      (Almonds)\n",
      "1  0.016096  (Aluminium Foil & Cling Wrap)\n",
      "2  0.077024              (Avalakki / Poha)\n",
      "3  0.260284                       (Banana)\n",
      "4  0.028973                 (Basmati Rice)\n"
     ]
    },
    {
     "name": "stderr",
     "output_type": "stream",
     "text": [
      "/Library/Frameworks/Python.framework/Versions/3.11/lib/python3.11/site-packages/mlxtend/frequent_patterns/fpcommon.py:109: DeprecationWarning: DataFrames with non-bool types result in worse computationalperformance and their support might be discontinued in the future.Please use a DataFrame with bool type\n",
      "  warnings.warn(\n"
     ]
    }
   ],
   "source": [
    "frequent_itemsets = apriori(itemset, min_support=0.01, use_colnames=True, max_len=2)\n",
    "print(frequent_itemsets.head())"
   ]
  },
  {
   "cell_type": "code",
   "execution_count": 52,
   "id": "0241d41e",
   "metadata": {},
   "outputs": [
    {
     "name": "stdout",
     "output_type": "stream",
     "text": [
      "       antecedents     consequents  antecedent support  consequent support  \\\n",
      "25  (Other Flours)  (Sooji & Rava)            0.017885            0.132228   \n",
      "19   (Snacky Nuts)       (Namkeen)            0.039704            0.146298   \n",
      "29    (Rice Flour)  (Sooji & Rava)            0.023131            0.132228   \n",
      "30    (Rice Flour)      (Toor Dal)            0.023131            0.152259   \n",
      "33      (Urad Dal)      (Toor Dal)            0.102659            0.152259   \n",
      "\n",
      "     support  confidence      lift  leverage  conviction  zhangs_metric  \n",
      "25  0.011089    0.620000  4.688855  0.008724    2.283609       0.801055  \n",
      "19  0.021343    0.537538  3.674268  0.015534    1.845992       0.757930  \n",
      "29  0.012042    0.520619  3.937266  0.008984    1.810190       0.763681  \n",
      "30  0.011327    0.489691  3.216160  0.007805    1.661229       0.705386  \n",
      "33  0.048766    0.475029  3.119866  0.033135    1.614833       0.757207  \n"
     ]
    }
   ],
   "source": [
    "rules = association_rules(frequent_itemsets, metric=\"lift\", min_threshold=3)\n",
    "rules = rules.sort_values(['confidence', 'lift'], ascending =[False, False]) \n",
    "print(rules.head()) "
   ]
  }
 ],
 "metadata": {
  "kernelspec": {
   "display_name": "Python 3 (ipykernel)",
   "language": "python",
   "name": "python3"
  },
  "language_info": {
   "codemirror_mode": {
    "name": "ipython",
    "version": 3
   },
   "file_extension": ".py",
   "mimetype": "text/x-python",
   "name": "python",
   "nbconvert_exporter": "python",
   "pygments_lexer": "ipython3",
   "version": "3.11.1"
  }
 },
 "nbformat": 4,
 "nbformat_minor": 5
}
